{
 "cells": [
  {
   "cell_type": "code",
   "execution_count": 2,
   "metadata": {},
   "outputs": [],
   "source": [
    "from mastodon import Mastodon\n",
    "import csv, os, time, json"
   ]
  },
  {
   "cell_type": "code",
   "execution_count": null,
   "metadata": {},
   "outputs": [],
   "source": [
    "m = Mastodon(\n",
    "        api_base_url=f'https://mastodon.au',\n",
    "        access_token=os.environ['MASTODON_ACCESS_TOKEN']\n",
    "    )\n"
   ]
  },
  {
   "cell_type": "code",
   "execution_count": 4,
   "metadata": {},
   "outputs": [
    {
     "ename": "KeyError",
     "evalue": "'MASTODON_ACCESS_TOKEN'",
     "output_type": "error",
     "traceback": [
      "\u001b[1;31m---------------------------------------------------------------------------\u001b[0m",
      "\u001b[1;31mKeyError\u001b[0m                                  Traceback (most recent call last)",
      "Cell \u001b[1;32mIn[4], line 4\u001b[0m\n\u001b[0;32m      1\u001b[0m \u001b[39mfrom\u001b[39;00m \u001b[39mmastodon\u001b[39;00m \u001b[39mimport\u001b[39;00m Mastodon\n\u001b[0;32m      2\u001b[0m \u001b[39mimport\u001b[39;00m \u001b[39mos\u001b[39;00m\n\u001b[1;32m----> 4\u001b[0m mastodon \u001b[39m=\u001b[39m Mastodon(api_base_url\u001b[39m=\u001b[39m\u001b[39m'\u001b[39m\u001b[39mhttps://mastodon.online\u001b[39m\u001b[39m'\u001b[39m, access_token \u001b[39m=\u001b[39m os\u001b[39m.\u001b[39;49menviron[\u001b[39m'\u001b[39;49m\u001b[39mMASTODON_ACCESS_TOKEN\u001b[39;49m\u001b[39m'\u001b[39;49m])\n\u001b[0;32m      5\u001b[0m mastodon\u001b[39m.\u001b[39mretrieve_mastodon_version()\n\u001b[0;32m      6\u001b[0m mastodon\u001b[39m.\u001b[39mstatus(\u001b[39m\"\u001b[39m\u001b[39m109666136628267939\u001b[39m\u001b[39m\"\u001b[39m)[\u001b[39m\"\u001b[39m\u001b[39mcontent\u001b[39m\u001b[39m\"\u001b[39m]\n",
      "File \u001b[1;32m<frozen os>:679\u001b[0m, in \u001b[0;36m__getitem__\u001b[1;34m(self, key)\u001b[0m\n",
      "\u001b[1;31mKeyError\u001b[0m: 'MASTODON_ACCESS_TOKEN'"
     ]
    }
   ],
   "source": [
    "from mastodon import Mastodon\n",
    "import os\n",
    "\n",
    "mastodon = Mastodon(api_base_url='https://mastodon.online', access_token = os.environ['MASTODON_ACCESS_TOKEN'])\n",
    "mastodon.retrieve_mastodon_version()\n",
    "mastodon.status(\"109666136628267939\")[\"content\"]\n",
    "\n"
   ]
  }
 ],
 "metadata": {
  "kernelspec": {
   "display_name": "Python 3",
   "language": "python",
   "name": "python3"
  },
  "language_info": {
   "codemirror_mode": {
    "name": "ipython",
    "version": 3
   },
   "file_extension": ".py",
   "mimetype": "text/x-python",
   "name": "python",
   "nbconvert_exporter": "python",
   "pygments_lexer": "ipython3",
   "version": "3.11.3"
  },
  "orig_nbformat": 4
 },
 "nbformat": 4,
 "nbformat_minor": 2
}
